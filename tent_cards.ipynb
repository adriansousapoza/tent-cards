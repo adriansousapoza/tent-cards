{
 "cells": [
  {
   "cell_type": "code",
   "execution_count": 3,
   "metadata": {},
   "outputs": [
    {
     "name": "stdout",
     "output_type": "stream",
     "text": [
      "Requirement already satisfied: reportlab in /home/adso/anaconda3/lib/python3.11/site-packages (4.2.0)\n",
      "Requirement already satisfied: pillow>=9.0.0 in /home/adso/anaconda3/lib/python3.11/site-packages (from reportlab) (10.3.0)\n",
      "Requirement already satisfied: chardet in /home/adso/anaconda3/lib/python3.11/site-packages (from reportlab) (4.0.0)\n"
     ]
    }
   ],
   "source": [
    "!pip install reportlab"
   ]
  },
  {
   "cell_type": "code",
   "execution_count": 4,
   "metadata": {},
   "outputs": [],
   "source": [
    "from reportlab.lib.pagesizes import landscape, letter\n",
    "from reportlab.pdfgen import canvas\n",
    "from reportlab.pdfbase.ttfonts import TTFont\n",
    "from reportlab.pdfbase import pdfmetrics\n",
    "\n",
    "def create_nametag(name):\n",
    "    pdf_file = f'{name}.pdf'\n",
    "    c = canvas.Canvas(pdf_file, pagesize=landscape(letter))\n",
    "    width, height = landscape(letter)\n",
    "\n",
    "    # Register and set the Archivo font\n",
    "    pdfmetrics.registerFont(TTFont('Archivo', 'Archivo-Regular.ttf'))\n",
    "    c.setFont(\"Archivo\", 75)\n",
    "\n",
    "    # Draw the name rotated 180 degrees on the top half\n",
    "    c.saveState()\n",
    "    c.translate(width / 2, height * 3 / 4)\n",
    "    c.rotate(180)\n",
    "    c.drawCentredString(0, 0, name)\n",
    "    c.restoreState()\n",
    "\n",
    "    # Draw the name normally on the bottom half\n",
    "    c.drawCentredString(width / 2, height / 4, name)\n",
    "\n",
    "    c.save()\n",
    "\n",
    "Names = ['Your Name']\n",
    "\n",
    "for name in Names:\n",
    "    create_nametag(name)"
   ]
  }
 ],
 "metadata": {
  "kernelspec": {
   "display_name": "base",
   "language": "python",
   "name": "python3"
  },
  "language_info": {
   "codemirror_mode": {
    "name": "ipython",
    "version": 3
   },
   "file_extension": ".py",
   "mimetype": "text/x-python",
   "name": "python",
   "nbconvert_exporter": "python",
   "pygments_lexer": "ipython3",
   "version": "3.1.undefined"
  }
 },
 "nbformat": 4,
 "nbformat_minor": 2
}
